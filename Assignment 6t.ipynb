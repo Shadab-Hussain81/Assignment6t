{
 "cells": [
  {
   "cell_type": "markdown",
   "id": "73202ffd-644e-4166-a460-04d967b4207b",
   "metadata": {},
   "source": [
    "Q.1. Create two int type variables, apply addition, subtraction, division and multiplications\n",
    "and store the results in variables. Then print the data in the following format by calling the\n",
    "variables:\n",
    "First variable is __ & second variable is __.\n",
    "Addition: __ + __ = __\n",
    "Subtraction: __ - __ = __\n",
    "Multiplication: __ * __ = __\n",
    "Division: __ / __ = __"
   ]
  },
  {
   "cell_type": "code",
   "execution_count": 1,
   "id": "708d069c-6afc-4e8d-8eb4-4f42c68e378d",
   "metadata": {},
   "outputs": [
    {
     "name": "stdout",
     "output_type": "stream",
     "text": [
      "First variable is 10 & second variable is 5\n",
      "Addition: 10 + 5 = 15\n",
      "Subtraction: 10 - 5 = 5\n",
      "Multiplication: 10 * 5 = 50\n",
      "Division: 10 / 5 = 2.0\n"
     ]
    }
   ],
   "source": [
    "# Create two integer variables\n",
    "first_variable = 10\n",
    "second_variable = 5\n",
    "\n",
    "# Perform arithmetic operations\n",
    "addition = first_variable + second_variable\n",
    "subtraction = first_variable - second_variable\n",
    "multiplication = first_variable * second_variable\n",
    "division = first_variable / second_variable\n",
    "\n",
    "# Print the results\n",
    "print(\"First variable is\", first_variable, \"& second variable is\", second_variable)\n",
    "print(\"Addition:\", first_variable, \"+\", second_variable, \"=\", addition)\n",
    "print(\"Subtraction:\", first_variable, \"-\", second_variable, \"=\", subtraction)\n",
    "print(\"Multiplication:\", first_variable, \"*\", second_variable, \"=\", multiplication)\n",
    "print(\"Division:\", first_variable, \"/\", second_variable, \"=\", division)"
   ]
  },
  {
   "cell_type": "markdown",
   "id": "bce880a5-d9a7-42b4-b64d-a0276d6cbd86",
   "metadata": {},
   "source": [
    "Q.2. What is the difference between the following operators:\n",
    "(i) ‘/’ & ‘//’\n",
    "(ii) ‘**’ & ‘^’"
   ]
  },
  {
   "cell_type": "markdown",
   "id": "810bbe13-bf60-438f-a3c9-6d9921164a56",
   "metadata": {},
   "source": [
    "#(i) The operators '/' and '//' are both used for division in Python, but they behave differently depending on the operand types."
   ]
  },
  {
   "cell_type": "code",
   "execution_count": 2,
   "id": "549eef2c-1785-4df1-bb25-ee885916ac01",
   "metadata": {},
   "outputs": [
    {
     "data": {
      "text/plain": [
       "3.3333333333333335"
      ]
     },
     "execution_count": 2,
     "metadata": {},
     "output_type": "execute_result"
    }
   ],
   "source": [
    ">>> 10 / 3\n",
    "3.3333333333333335"
   ]
  },
  {
   "cell_type": "markdown",
   "id": "11367379-0ae8-477d-b24d-ad10adcb6738",
   "metadata": {},
   "source": [
    "On the other hand, the '//' operator is used for floor division or integer division. It divides the left operand by the right operand and returns the largest integer that is less than or equal to the result. For example:"
   ]
  },
  {
   "cell_type": "code",
   "execution_count": 4,
   "id": "c1c36c82-b6ec-455b-b8f9-685714664f61",
   "metadata": {},
   "outputs": [
    {
     "data": {
      "text/plain": [
       "3"
      ]
     },
     "execution_count": 4,
     "metadata": {},
     "output_type": "execute_result"
    }
   ],
   "source": [
    ">>> 10 // 3"
   ]
  },
  {
   "cell_type": "markdown",
   "id": "b8464ad9-4aa3-49df-b86f-8fa911c9ff5c",
   "metadata": {},
   "source": [
    "(ii) The operators '**' and '^' are both used for exponentiation, but they have different meanings in Python.\n",
    "\n",
    "The '**' operator is used for exponentiation and raises the left operand to the power of the right operand. For example:"
   ]
  },
  {
   "cell_type": "code",
   "execution_count": 5,
   "id": "6b80cd89-7382-43a3-bcd3-1baf15ed871e",
   "metadata": {},
   "outputs": [
    {
     "data": {
      "text/plain": [
       "8"
      ]
     },
     "execution_count": 5,
     "metadata": {},
     "output_type": "execute_result"
    }
   ],
   "source": [
    ">>> 2 ** 3"
   ]
  },
  {
   "cell_type": "markdown",
   "id": "dfca50e8-61b7-432c-83d9-1455d3047eea",
   "metadata": {},
   "source": [
    "On the other hand, the '^' operator is not used for exponentiation in Python. Instead, it is the bitwise XOR operator, which performs a bitwise exclusive OR operation on the binary representations of the operands. If you want to perform exponentiation, you should use '**' instead."
   ]
  },
  {
   "cell_type": "markdown",
   "id": "bf1e5fbb-05c3-436f-9241-cd20a6bbf3da",
   "metadata": {},
   "source": [
    "Q.3. List the logical operators."
   ]
  },
  {
   "cell_type": "markdown",
   "id": "dd8934c8-5edb-4c08-8483-bc68e6f9a77a",
   "metadata": {},
   "source": [
    "Ans Logical operators are used to perform logical operations on Boolean values (true or false). The most common logical operators are:\n",
    "\n",
    "AND operator (&&): Returns true if both operands are true, otherwise false.\n",
    "OR operator (||): Returns true if either of the operands is true, otherwise false.\n",
    "NOT operator (!): Returns the opposite Boolean value of the operand. If the operand is true, it returns false, and vice versa."
   ]
  },
  {
   "cell_type": "markdown",
   "id": "705ba9aa-ef85-4b0f-bbfe-77d5b13ad052",
   "metadata": {},
   "source": [
    "Q.4. Explain right shift operator and left shift operator with examples."
   ]
  },
  {
   "cell_type": "markdown",
   "id": "c26eedc4-f281-4532-97ee-10a65267e94b",
   "metadata": {},
   "source": [
    "Ans Right Shift Operator (>>):\n",
    "The right shift operator shifts the bits of a number to the right by a specified number of positions. It is denoted by the double greater-than symbol (>>). When performing a right shift, the leftmost bits are filled with the sign bit (for signed integers) or with zeros (for unsigned integers).\n",
    "Example 1: Shifting a positive number to the right"
   ]
  },
  {
   "cell_type": "code",
   "execution_count": 6,
   "id": "c851ed90-08c8-47de-ae02-37f21e034205",
   "metadata": {},
   "outputs": [
    {
     "name": "stdout",
     "output_type": "stream",
     "text": [
      "3\n"
     ]
    }
   ],
   "source": [
    "x = 12   # Binary: 1100\n",
    "y = x >> 2\n",
    "print(y)  # Output: 3   (Binary: 0011)"
   ]
  },
  {
   "cell_type": "markdown",
   "id": "cc4b0003-4ba4-4af5-b09a-a117f00c8cf3",
   "metadata": {},
   "source": [
    "Ans Left Shift Operator (<<):\n",
    "The left shift operator shifts the bits of a number to the left by a specified number of positions. It is denoted by the double less-than symbol (<<). When performing a left shift, the rightmost bits are filled with zeros.\n",
    "Example 1: Shifting a number to the left"
   ]
  },
  {
   "cell_type": "code",
   "execution_count": 8,
   "id": "cd1a1913-5833-48d6-a7d6-2955cdac0606",
   "metadata": {},
   "outputs": [
    {
     "name": "stdout",
     "output_type": "stream",
     "text": [
      "20\n"
     ]
    }
   ],
   "source": [
    "x = 5    # Binary: 0101\n",
    "y = x << 2\n",
    "print(y)  # Output: 20  (Binary: 10100)"
   ]
  },
  {
   "cell_type": "code",
   "execution_count": null,
   "id": "8311c106-f213-46dc-ad31-a6d0d072eeb4",
   "metadata": {},
   "outputs": [],
   "source": []
  }
 ],
 "metadata": {
  "kernelspec": {
   "display_name": "Python 3 (ipykernel)",
   "language": "python",
   "name": "python3"
  },
  "language_info": {
   "codemirror_mode": {
    "name": "ipython",
    "version": 3
   },
   "file_extension": ".py",
   "mimetype": "text/x-python",
   "name": "python",
   "nbconvert_exporter": "python",
   "pygments_lexer": "ipython3",
   "version": "3.10.6"
  }
 },
 "nbformat": 4,
 "nbformat_minor": 5
}
